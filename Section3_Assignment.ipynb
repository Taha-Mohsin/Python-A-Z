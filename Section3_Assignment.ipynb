{
 "cells": [
  {
   "cell_type": "code",
   "execution_count": 50,
   "metadata": {},
   "outputs": [
    {
     "name": "stdout",
     "output_type": "stream",
     "text": [
      "[2522.67, 1911.3900000000003, -3707.790000000001, -2914.3099999999995, -599.9200000000001, 7265.24, 8210.550000000001, 3944.9700000000003, 3328.3899999999994, -2238.6500000000015, 659.5999999999985, 11629.54]\n"
     ]
    }
   ],
   "source": [
    "#Data \n",
    "revenue = [14574.49, 7606.46, 8611.41, 9175.41, 8058.65, 8105.44, 11496.28, 9766.09, 10305.32, 14379.96, 10713.97, 15433.50]\n",
    "expenses = [12051.82, 5695.07, 12319.20, 12089.72, 8658.57, 840.20, 3285.73, 5821.12, 6976.93, 16618.61, 10054.37, 3803.96]\n",
    "\n",
    "#Profit for each month\n",
    "n = 12\n",
    "profit = []\n",
    "for i in range(n):\n",
    "    profit.append(revenue[i] - expenses[i])\n",
    "\n",
    "print(profit)"
   ]
  },
  {
   "cell_type": "code",
   "execution_count": 35,
   "metadata": {},
   "outputs": [
    {
     "name": "stdout",
     "output_type": "stream",
     "text": [
      "[14574.49, 7606.46, 8611.41, 9175.41, 8058.65, 8105.44, 11496.28, 9766.09, 10305.32, 14379.96, 10713.97, 15433.5]\n",
      "[756.8, 573.42, -1112.34, -874.29, -179.98, 2179.57, 2463.17, 1183.49, 998.52, -671.6, 197.88, 3488.86]\n",
      "[1765.8700000000001, 1337.9700000000003, -2595.4500000000007, -2040.0199999999995, -419.94000000000005, 5085.67, 5747.380000000001, 2761.4800000000005, 2329.8699999999994, -1567.0500000000015, 461.71999999999855, 8140.68]\n"
     ]
    }
   ],
   "source": [
    "#profit after tax(30%) for each month\n",
    "\n",
    "profit_after_tax = []\n",
    "for i in range(n):\n",
    "    tax = [round(i * 0.3, 2) for i in profit]\n",
    "\n",
    "for i in range(n):\n",
    "    profit_after_tax.append(profit[i] - tax[i])\n",
    "\n",
    "print(revenue)\n",
    "print(tax)\n",
    "print(profit_after_tax)\n",
    "\n"
   ]
  },
  {
   "cell_type": "code",
   "execution_count": 40,
   "metadata": {},
   "outputs": [
    {
     "name": "stdout",
     "output_type": "stream",
     "text": [
      "[12.12, 17.59, -30.14, -22.23, -5.21, 62.74, 49.99, 28.28, 22.61, -10.9, 4.31, 52.75]\n"
     ]
    }
   ],
   "source": [
    "#profit margin = profit_at - revenue\n",
    "profit_margin = list ([])\n",
    "for i in range(n):\n",
    "    profit_margin.append(profit_after_tax[i]/revenue[i])\n",
    "profit_margin = [round(i*100,2) for i in profit_margin]\n",
    "print(profit_margin)"
   ]
  },
  {
   "cell_type": "code",
   "execution_count": 42,
   "metadata": {},
   "outputs": [
    {
     "name": "stdout",
     "output_type": "stream",
     "text": [
      "[True, False, False, False, False, True, True, True, True, False, False, True]\n",
      "[False, True, True, True, True, False, False, False, False, True, True, False]\n"
     ]
    }
   ],
   "source": [
    "#Good Months and Bad Months\n",
    "\n",
    "mean_year = sum(profit_after_tax)/n\n",
    "good_months = list([])\n",
    "bad_months = list([])\n",
    "\n",
    "for i in range(n):\n",
    "    good_months.append(profit_after_tax[i] > mean_year)\n",
    "    bad_months.append(profit_after_tax[i] < mean_year)\n",
    "\n",
    "\n",
    "print(good_months)\n",
    "print(bad_months)"
   ]
  },
  {
   "cell_type": "code",
   "execution_count": 48,
   "metadata": {},
   "outputs": [
    {
     "name": "stdout",
     "output_type": "stream",
     "text": [
      "8140.68\n",
      "-2595.4500000000007\n"
     ]
    }
   ],
   "source": [
    "# Best and Worst Month\n",
    "best_month = list([])\n",
    "worst_month = list([])\n",
    "\n",
    "best_month = max(profit_after_tax)\n",
    "worst_month = min(profit_after_tax)\n",
    "    \n",
    "print(best_month)\n",
    "print(worst_month)"
   ]
  },
  {
   "cell_type": "code",
   "execution_count": 55,
   "metadata": {},
   "outputs": [
    {
     "name": "stdout",
     "output_type": "stream",
     "text": [
      "[14, 7, 8, 9, 8, 8, 11, 9, 10, 14, 10, 15]\n",
      "[12, 5, 12, 12, 8, 0, 3, 5, 6, 16, 10, 3]\n",
      "[2, 1, -3, -2, 0, 7, 8, 3, 3, -2, 0, 11]\n",
      "[1, 1, -2, -2, 0, 5, 5, 2, 2, -1, 0, 8]\n"
     ]
    }
   ],
   "source": [
    "#Print all\n",
    "\n",
    "revenue_d = [round(i/1000,2) for i in revenue]\n",
    "expense_d = [round(i/1000,2) for i in expenses]\n",
    "profit_d = [round(i/1000,2) for i in profit]\n",
    "profit_at_d = [round(i/1000,2) for i in profit_after_tax]\n",
    "\n",
    "\n",
    "revenue_d = [int(i) for i in revenue_d]\n",
    "expense_d = [int(i) for i in expense_d]\n",
    "profit_d = [int(i) for i in profit_d]\n",
    "profit_at_d = [int(i) for i in profit_at_d]\n",
    "\n",
    "print(revenue_d)\n",
    "print(expense_d)\n",
    "print(profit_d)\n",
    "print(profit_at_d)"
   ]
  },
  {
   "cell_type": "code",
   "execution_count": null,
   "metadata": {},
   "outputs": [],
   "source": []
  }
 ],
 "metadata": {
  "kernelspec": {
   "display_name": "Python 3",
   "language": "python",
   "name": "python3"
  },
  "language_info": {
   "codemirror_mode": {
    "name": "ipython",
    "version": 3
   },
   "file_extension": ".py",
   "mimetype": "text/x-python",
   "name": "python",
   "nbconvert_exporter": "python",
   "pygments_lexer": "ipython3",
   "version": "3.7.4"
  }
 },
 "nbformat": 4,
 "nbformat_minor": 1
}
